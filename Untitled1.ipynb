{
 "cells": [
  {
   "cell_type": "code",
   "execution_count": 1,
   "id": "9cd7389d",
   "metadata": {},
   "outputs": [
    {
     "name": "stdout",
     "output_type": "stream",
     "text": [
      "Requirement already satisfied: html5lib in c:\\users\\himab\\anaconda3\\envs\\pythondata\\lib\\site-packages (1.1)\n",
      "Requirement already satisfied: six>=1.9 in c:\\users\\himab\\anaconda3\\envs\\pythondata\\lib\\site-packages (from html5lib) (1.16.0)\n",
      "Requirement already satisfied: webencodings in c:\\users\\himab\\anaconda3\\envs\\pythondata\\lib\\site-packages (from html5lib) (0.5.1)\n",
      "Note: you may need to restart the kernel to use updated packages.\n"
     ]
    }
   ],
   "source": [
    "pip install html5lib"
   ]
  },
  {
   "cell_type": "code",
   "execution_count": 1,
   "id": "8257341b",
   "metadata": {},
   "outputs": [
    {
     "name": "stdout",
     "output_type": "stream",
     "text": [
      "Collecting splinter[selenium4]\n",
      "  Using cached splinter-0.19.0-py3-none-any.whl (38 kB)\n",
      "Requirement already satisfied: urllib3<2.0,>=1.26.14 in c:\\users\\himab\\anaconda3\\envs\\pythondata\\lib\\site-packages (from splinter[selenium4]) (1.26.15)\n",
      "Collecting selenium<4.2.0,>=4.1.0\n",
      "  Using cached selenium-4.1.5-py3-none-any.whl (979 kB)\n",
      "Collecting trio~=0.17\n",
      "  Using cached trio-0.22.0-py3-none-any.whl (384 kB)\n",
      "Collecting trio-websocket~=0.9\n",
      "  Using cached trio_websocket-0.10.2-py3-none-any.whl (17 kB)\n",
      "Requirement already satisfied: idna in c:\\users\\himab\\anaconda3\\envs\\pythondata\\lib\\site-packages (from trio~=0.17->selenium<4.2.0,>=4.1.0->splinter[selenium4]) (3.4)\n",
      "Collecting exceptiongroup>=1.0.0rc9\n",
      "  Using cached exceptiongroup-1.1.1-py3-none-any.whl (14 kB)\n",
      "Requirement already satisfied: sniffio in c:\\users\\himab\\anaconda3\\envs\\pythondata\\lib\\site-packages (from trio~=0.17->selenium<4.2.0,>=4.1.0->splinter[selenium4]) (1.2.0)\n",
      "Collecting outcome\n",
      "  Using cached outcome-1.2.0-py2.py3-none-any.whl (9.7 kB)\n",
      "Collecting sortedcontainers\n",
      "  Downloading sortedcontainers-2.4.0-py2.py3-none-any.whl (29 kB)\n",
      "Requirement already satisfied: attrs>=19.2.0 in c:\\users\\himab\\anaconda3\\envs\\pythondata\\lib\\site-packages (from trio~=0.17->selenium<4.2.0,>=4.1.0->splinter[selenium4]) (22.1.0)\n",
      "Requirement already satisfied: cffi>=1.14 in c:\\users\\himab\\anaconda3\\envs\\pythondata\\lib\\site-packages (from trio~=0.17->selenium<4.2.0,>=4.1.0->splinter[selenium4]) (1.15.1)\n",
      "Collecting async-generator>=1.9\n",
      "  Using cached async_generator-1.10-py3-none-any.whl (18 kB)\n",
      "Collecting wsproto>=0.14\n",
      "  Using cached wsproto-1.2.0-py3-none-any.whl (24 kB)\n",
      "Requirement already satisfied: certifi in c:\\users\\himab\\anaconda3\\envs\\pythondata\\lib\\site-packages (from urllib3<2.0,>=1.26.14->splinter[selenium4]) (2022.12.7)\n",
      "Requirement already satisfied: pyOpenSSL>=0.14 in c:\\users\\himab\\anaconda3\\envs\\pythondata\\lib\\site-packages (from urllib3<2.0,>=1.26.14->splinter[selenium4]) (23.0.0)\n",
      "Requirement already satisfied: cryptography>=1.3.4 in c:\\users\\himab\\anaconda3\\envs\\pythondata\\lib\\site-packages (from urllib3<2.0,>=1.26.14->splinter[selenium4]) (39.0.1)\n",
      "Collecting urllib3-secure-extra\n",
      "  Using cached urllib3_secure_extra-0.1.0-py2.py3-none-any.whl (1.4 kB)\n",
      "Requirement already satisfied: PySocks!=1.5.7,<2.0,>=1.5.6 in c:\\users\\himab\\anaconda3\\envs\\pythondata\\lib\\site-packages (from urllib3<2.0,>=1.26.14->splinter[selenium4]) (1.7.1)\n",
      "Requirement already satisfied: pycparser in c:\\users\\himab\\anaconda3\\envs\\pythondata\\lib\\site-packages (from cffi>=1.14->trio~=0.17->selenium<4.2.0,>=4.1.0->splinter[selenium4]) (2.21)\n",
      "Collecting h11<1,>=0.9.0\n",
      "  Using cached h11-0.14.0-py3-none-any.whl (58 kB)\n",
      "Installing collected packages: urllib3-secure-extra, sortedcontainers, splinter, outcome, h11, exceptiongroup, async-generator, wsproto, trio, trio-websocket, selenium\n",
      "Successfully installed async-generator-1.10 exceptiongroup-1.1.1 h11-0.14.0 outcome-1.2.0 selenium-4.1.5 sortedcontainers-2.4.0 splinter-0.19.0 trio-0.22.0 trio-websocket-0.10.2 urllib3-secure-extra-0.1.0 wsproto-1.2.0\n",
      "Note: you may need to restart the kernel to use updated packages.\n"
     ]
    }
   ],
   "source": [
    "pip install \"splinter[selenium4]\""
   ]
  },
  {
   "cell_type": "code",
   "execution_count": 1,
   "id": "64ce8f1b",
   "metadata": {},
   "outputs": [
    {
     "name": "stdout",
     "output_type": "stream",
     "text": [
      "Requirement already satisfied: lxml in c:\\users\\himab\\anaconda3\\envs\\pythondata\\lib\\site-packages (4.9.2)\n",
      "Note: you may need to restart the kernel to use updated packages.\n"
     ]
    }
   ],
   "source": [
    "pip install lxml"
   ]
  },
  {
   "cell_type": "code",
   "execution_count": null,
   "id": "9badcbe5",
   "metadata": {},
   "outputs": [],
   "source": []
  }
 ],
 "metadata": {
  "kernelspec": {
   "display_name": "Python 3 (ipykernel)",
   "language": "python",
   "name": "python3"
  },
  "language_info": {
   "codemirror_mode": {
    "name": "ipython",
    "version": 3
   },
   "file_extension": ".py",
   "mimetype": "text/x-python",
   "name": "python",
   "nbconvert_exporter": "python",
   "pygments_lexer": "ipython3",
   "version": "3.10.11"
  }
 },
 "nbformat": 4,
 "nbformat_minor": 5
}

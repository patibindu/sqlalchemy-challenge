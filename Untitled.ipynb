{
 "cells": [
  {
   "cell_type": "code",
   "execution_count": 1,
   "id": "58f71b46",
   "metadata": {},
   "outputs": [
    {
     "name": "stdout",
     "output_type": "stream",
     "text": [
      "Requirement already satisfied: splinter[selenium4] in c:\\users\\himab\\anaconda3\\lib\\site-packages (0.19.0)\n",
      "Requirement already satisfied: urllib3<2.0,>=1.26.14 in c:\\users\\himab\\anaconda3\\lib\\site-packages (from splinter[selenium4]) (1.26.15)\n",
      "Requirement already satisfied: selenium<4.2.0,>=4.1.0 in c:\\users\\himab\\anaconda3\\lib\\site-packages (from splinter[selenium4]) (4.1.5)\n",
      "Requirement already satisfied: trio-websocket~=0.9 in c:\\users\\himab\\anaconda3\\lib\\site-packages (from selenium<4.2.0,>=4.1.0->splinter[selenium4]) (0.10.2)\n",
      "Requirement already satisfied: trio~=0.17 in c:\\users\\himab\\anaconda3\\lib\\site-packages (from selenium<4.2.0,>=4.1.0->splinter[selenium4]) (0.22.0)\n",
      "Requirement already satisfied: attrs>=19.2.0 in c:\\users\\himab\\anaconda3\\lib\\site-packages (from trio~=0.17->selenium<4.2.0,>=4.1.0->splinter[selenium4]) (21.4.0)\n",
      "Requirement already satisfied: sniffio in c:\\users\\himab\\anaconda3\\lib\\site-packages (from trio~=0.17->selenium<4.2.0,>=4.1.0->splinter[selenium4]) (1.2.0)\n",
      "Requirement already satisfied: async-generator>=1.9 in c:\\users\\himab\\anaconda3\\lib\\site-packages (from trio~=0.17->selenium<4.2.0,>=4.1.0->splinter[selenium4]) (1.10)\n",
      "Requirement already satisfied: idna in c:\\users\\himab\\anaconda3\\lib\\site-packages (from trio~=0.17->selenium<4.2.0,>=4.1.0->splinter[selenium4]) (3.3)\n",
      "Requirement already satisfied: cffi>=1.14 in c:\\users\\himab\\anaconda3\\lib\\site-packages (from trio~=0.17->selenium<4.2.0,>=4.1.0->splinter[selenium4]) (1.15.1)\n",
      "Requirement already satisfied: outcome in c:\\users\\himab\\anaconda3\\lib\\site-packages (from trio~=0.17->selenium<4.2.0,>=4.1.0->splinter[selenium4]) (1.2.0)\n",
      "Requirement already satisfied: sortedcontainers in c:\\users\\himab\\anaconda3\\lib\\site-packages (from trio~=0.17->selenium<4.2.0,>=4.1.0->splinter[selenium4]) (2.4.0)\n",
      "Requirement already satisfied: exceptiongroup>=1.0.0rc9 in c:\\users\\himab\\anaconda3\\lib\\site-packages (from trio~=0.17->selenium<4.2.0,>=4.1.0->splinter[selenium4]) (1.1.1)\n",
      "Requirement already satisfied: wsproto>=0.14 in c:\\users\\himab\\anaconda3\\lib\\site-packages (from trio-websocket~=0.9->selenium<4.2.0,>=4.1.0->splinter[selenium4]) (1.2.0)\n",
      "Requirement already satisfied: PySocks!=1.5.7,<2.0,>=1.5.6 in c:\\users\\himab\\anaconda3\\lib\\site-packages (from urllib3<2.0,>=1.26.14->splinter[selenium4]) (1.7.1)\n",
      "Requirement already satisfied: pyOpenSSL>=0.14 in c:\\users\\himab\\anaconda3\\lib\\site-packages (from urllib3<2.0,>=1.26.14->splinter[selenium4]) (22.0.0)\n",
      "Requirement already satisfied: certifi in c:\\users\\himab\\anaconda3\\lib\\site-packages (from urllib3<2.0,>=1.26.14->splinter[selenium4]) (2022.9.14)\n",
      "Requirement already satisfied: urllib3-secure-extra in c:\\users\\himab\\anaconda3\\lib\\site-packages (from urllib3<2.0,>=1.26.14->splinter[selenium4]) (0.1.0)\n",
      "Requirement already satisfied: cryptography>=1.3.4 in c:\\users\\himab\\anaconda3\\lib\\site-packages (from urllib3<2.0,>=1.26.14->splinter[selenium4]) (37.0.1)\n",
      "Requirement already satisfied: pycparser in c:\\users\\himab\\anaconda3\\lib\\site-packages (from cffi>=1.14->trio~=0.17->selenium<4.2.0,>=4.1.0->splinter[selenium4]) (2.21)\n",
      "Requirement already satisfied: h11<1,>=0.9.0 in c:\\users\\himab\\anaconda3\\lib\\site-packages (from wsproto>=0.14->trio-websocket~=0.9->selenium<4.2.0,>=4.1.0->splinter[selenium4]) (0.14.0)\n",
      "Note: you may need to restart the kernel to use updated packages.\n"
     ]
    }
   ],
   "source": [
    "pip install \"splinter[selenium4]\"\n"
   ]
  },
  {
   "cell_type": "code",
   "execution_count": 2,
   "id": "112fde44",
   "metadata": {},
   "outputs": [
    {
     "name": "stdout",
     "output_type": "stream",
     "text": [
      "Requirement already satisfied: html5lib in c:\\users\\himab\\anaconda3\\lib\\site-packages (1.1)Note: you may need to restart the kernel to use updated packages.\n",
      "\n",
      "Requirement already satisfied: webencodings in c:\\users\\himab\\anaconda3\\lib\\site-packages (from html5lib) (0.5.1)\n",
      "Requirement already satisfied: six>=1.9 in c:\\users\\himab\\anaconda3\\lib\\site-packages (from html5lib) (1.16.0)\n"
     ]
    }
   ],
   "source": [
    "pip install html5lib\n"
   ]
  },
  {
   "cell_type": "code",
   "execution_count": 1,
   "id": "d3967938",
   "metadata": {},
   "outputs": [
    {
     "name": "stdout",
     "output_type": "stream",
     "text": [
      "Requirement already satisfied: lxml in c:\\users\\himab\\anaconda3\\lib\\site-packages (4.9.1)\n",
      "Note: you may need to restart the kernel to use updated packages.\n"
     ]
    }
   ],
   "source": [
    "pip install lxml"
   ]
  },
  {
   "cell_type": "code",
   "execution_count": null,
   "id": "23a9195d",
   "metadata": {},
   "outputs": [],
   "source": []
  }
 ],
 "metadata": {
  "kernelspec": {
   "display_name": "PythonData",
   "language": "python",
   "name": "pythondata"
  },
  "language_info": {
   "codemirror_mode": {
    "name": "ipython",
    "version": 3
   },
   "file_extension": ".py",
   "mimetype": "text/x-python",
   "name": "python",
   "nbconvert_exporter": "python",
   "pygments_lexer": "ipython3",
   "version": "3.9.13"
  }
 },
 "nbformat": 4,
 "nbformat_minor": 5
}
